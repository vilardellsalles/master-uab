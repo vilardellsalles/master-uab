{
 "cells": [
  {
   "cell_type": "markdown",
   "metadata": {},
   "source": [
    "# Standard photometry"
   ]
  },
  {
   "cell_type": "markdown",
   "metadata": {},
   "source": [
    "In the [previous section](photutils.ipynb), astrometry and photometry was obtained, but the photometry is not in standard and has to be transformed to standard magnitudes. The first step is to import the required packages and read the catalog"
   ]
  },
  {
   "cell_type": "code",
   "execution_count": null,
   "metadata": {},
   "outputs": [],
   "source": [
    "import os.path\n",
    "\n",
    "from astropy import table\n",
    "import astropy.coordinates as coord\n",
    "\n",
    "from astroquery.vizier import Vizier\n",
    "Vizier.ROW_LIMIT = -1\n",
    "\n",
    "catalog_name = os.path.join('..', 'resources', 'red_data',\n",
    "                            'instrumental_photometry.txt')\n",
    "catalog = table.Table.read(catalog_name, format='ascii.fixed_width')"
   ]
  },
  {
   "cell_type": "markdown",
   "metadata": {},
   "source": [
    "The transformation from instrumental magnitudes to standard magnitudes requires using two photometric bands to correct any possible color dependency. Therefore, the first step is to select two of the images, obtained with different filters. In the current exercise, the first two images images of each filter are going to be used."
   ]
  },
  {
   "cell_type": "code",
   "execution_count": null,
   "metadata": {},
   "outputs": [],
   "source": [
    "# Select the first two images of each band\n",
    "\n",
    "b_image = '../resources/red_data/bfa_m67_b_1.fit'\n",
    "y_image = '../resources/red_data/bfa_m67_y_1.fit'\n",
    "\n",
    "b_catalog = catalog[catalog['Filename'] == b_image]\n",
    "y_catalog = catalog[catalog['Filename'] == y_image]\n",
    "\n",
    "b_catalog[:5].show_in_notebook()"
   ]
  },
  {
   "cell_type": "markdown",
   "metadata": {},
   "source": [
    "The two catalog have been read, but now stars in both catalogs have to be identified. Position obtained as part of the astrometry procedure will be used:"
   ]
  },
  {
   "cell_type": "code",
   "execution_count": null,
   "metadata": {},
   "outputs": [],
   "source": [
    "b_pos = coord.SkyCoord(b_catalog['ra'], b_catalog['dec'],\n",
    "                       unit=('degree', 'degree'))\n",
    "y_pos = coord.SkyCoord(y_catalog['ra'], y_catalog['dec'],\n",
    "                       unit=('degree', 'degree'))\n",
    "\n",
    "pos_by = table.Table(b_pos.match_to_catalog_sky(y_pos), masked=True,\n",
    "                     names=['index', 'distance', '3d'])\n",
    "del pos_by['3d']\n",
    "\n",
    "pos_by[:5].show_in_notebook()"
   ]
  },
  {
   "cell_type": "markdown",
   "metadata": {},
   "source": [
    "The obtained table identifies the index of the stars in one catalog with the indexes of the same stars in the other catalog. Now, the content of both catalogs can be merged, but the previous commands do not avoid than two stars of one catalog are matched to the same star of another catalog. Therefore, we will use a custom-made function to selects only the nearest star among the possible stars. In addition, the matched stars have to be less than 3 arc seconds appart. "
   ]
  },
  {
   "cell_type": "code",
   "execution_count": null,
   "metadata": {},
   "outputs": [],
   "source": [
    "def join_catalogs(index_table, left_table, right_table):\n",
    "\n",
    "    matched = table.hstack([index_table, left_table,\n",
    "                            right_table[index_table['index']]])\n",
    "    matched.sort(['index', 'distance'])\n",
    "\n",
    "    index = matched[\"index\"]\n",
    "    good_match = [True]\n",
    "    good_match += [star != oldstar for star, oldstar in zip(index, index[1:])]\n",
    "    nearby = matched['distance'] < coord.Angle('3 arcsec').degree\n",
    "\n",
    "    result = matched[good_match * nearby]\n",
    "    del result['index', 'distance']\n",
    "\n",
    "    return result\n",
    "\n",
    "phot_ins = join_catalogs(pos_by, b_catalog, y_catalog)\n",
    "\n",
    "# Tidy up the resulting column names\n",
    "for col in phot_ins.colnames:\n",
    "    new_name = col.replace('_2', '_b').replace('_3','_y')\n",
    "    phot_ins.rename_column(col, new_name)\n",
    "\n",
    "# And compute the color\n",
    "phot_ins['mag_b-y'] = phot_ins['mag_b'] - phot_ins['mag_y']\n",
    "\n",
    "phot_ins[:5].show_in_notebook()"
   ]
  },
  {
   "cell_type": "markdown",
   "metadata": {},
   "source": [
    "Now we have all the instrumental information required, but the reference stars with standard magnitudes is missing. For that, the catalog from [Balaguer-Núñez, Galadí-Enríquez, Jordi, C.; 2007](https://ui.adsabs.harvard.edu/abs/2007A%26A...470..585B/abstract) is going to be used. The first step is to retrieve the catalog and match the positions of its stars with the instrumental magnitudes."
   ]
  },
  {
   "cell_type": "code",
   "execution_count": null,
   "metadata": {},
   "outputs": [],
   "source": [
    "phot_std = Vizier.get_catalogs(['J/A+A/470/585'])[0]\n",
    "phot_std = phot_std[~phot_std['b-y'].mask]  # Reject stars with missing b-y\n",
    "\n",
    "pos_std = coord.SkyCoord(phot_std['RAJ2000'], phot_std['DEJ2000'],\n",
    "                         unit=('hourangle', 'degree'))\n",
    "pos_ins = coord.SkyCoord(phot_ins['ra_b'], phot_ins['dec_b'], \n",
    "                         unit=('degree', 'degree'))\n",
    "\n",
    "pos_std_ins = table.Table(pos_std.match_to_catalog_sky(pos_ins),\n",
    "                          masked=True, names=['index', 'distance', '3d'])\n",
    "del pos_std_ins['3d']\n",
    "\n",
    "phot_std_ins = join_catalogs(pos_std_ins, phot_std, phot_ins)\n",
    "\n",
    "print('Number of matched stars:', len(phot_std_ins), 'of', len(phot_ins))\n",
    "phot_std_ins[:5].show_in_notebook()"
   ]
  },
  {
   "cell_type": "markdown",
   "metadata": {},
   "source": [
    "The final step is to find the transformation between instrumental and standard magnitudes. In this case, the equation to be solved is:\n",
    "\n",
    "$$(b-y)_{std}=m\\cdot(b-y)_{ins}+b$$\n",
    "\n",
    "where the coefficients $m$ and $b$ have to be found."
   ]
  },
  {
   "cell_type": "code",
   "execution_count": null,
   "metadata": {},
   "outputs": [],
   "source": [
    "%matplotlib widget\n",
    "import matplotlib.pyplot as plt\n",
    "\n",
    "# It would be better to use scipy.optimize.least_squares\n",
    "from scipy.stats import linregress \n",
    "\n",
    "regression = stats.linregress(phot_std_ins['mag_b-y'], phot_std_ins['b-y'])\n",
    "\n",
    "fit = regression.intercept + regression.slope * phot_std_ins['mag_b-y']\n",
    "phot_std_ins['final_b-y'] = fit\n",
    "\n",
    "print('Slope:', regression.slope)\n",
    "print('Zeropoint:', regression.intercept)\n",
    "\n",
    "plt.plot(phot_std_ins['mag_b-y'], phot_std_ins['b-y'], 'o')\n",
    "plt.plot(phot_std_ins['mag_b-y'], fit, 'r')\n",
    "plt.xlabel('$(b-y)_{ins}$')\n",
    "plt.ylabel('$(b-y)_{std}$')\n",
    "\n",
    "phot_std_ins['ra_b', 'dec_b', 'final_b-y'][:5]"
   ]
  }
 ],
 "metadata": {
  "kernelspec": {
   "display_name": "Python 3",
   "language": "python",
   "name": "python3"
  },
  "language_info": {
   "codemirror_mode": {
    "name": "ipython",
    "version": 3
   },
   "file_extension": ".py",
   "mimetype": "text/x-python",
   "name": "python",
   "nbconvert_exporter": "python",
   "pygments_lexer": "ipython3",
   "version": "3.7.3"
  }
 },
 "nbformat": 4,
 "nbformat_minor": 4
}
