{
 "cells": [
  {
   "cell_type": "markdown",
   "metadata": {},
   "source": [
    "# Introduction to Astropy"
   ]
  },
  {
   "cell_type": "markdown",
   "metadata": {},
   "source": [
    "The [Astropy Project](https://www.astropy.org/index.html) is a community effort to develop a core package for astronomy using the Python programming language and improve usability, interoperability, and collaboration between astronomy Python packages. The **core astropy package** contains functionality aimed at professional astronomers and astrophysicists, but may be useful to anyone developing astronomy software. The Astropy Project also includes [**\"affiliated packages\"**](), Python packages that are not necessarily developed by the core development team, but share the goals of Astropy, and often build from the core package's code and infrastructure. \n",
    "\n",
    "Astropy has become the standard tool to work with astronomical data, since its creation in 2012, but specially since the first version was released in 2015. Its widespread acceptance is mainly due to the strong support of [NumFOCUS](https://numfocus.org/sponsored-projectshttps://numfocus.org/sponsored-projects) (sponsor of many scientific tools in Python) and the approval of several other important institutions, like the [STScI](https://www.stsci.edu/). Currently, Astropy core package has almost 30000 commits of 375 different contributors. \n",
    "\n",
    "The content of the current exercise has been adapted from this [Python course held at ICE](https://github.com/Python4AstronomersAndParticlePhysicists/PythonWorkshop-ICE/blob/master/notebooks/10_01_Astronomy_Astropy.ipynb) in 2017."
   ]
  },
  {
   "cell_type": "markdown",
   "metadata": {},
   "source": [
    "# Astropy Basics\n",
    "In this section, we will explain the basics of what can be done with Astropy, such as working with internal units, opening FITS files, tables, spectra and WCS."
   ]
  },
  {
   "cell_type": "markdown",
   "metadata": {},
   "source": [
    "## Constants and Units\n",
    "Astropy provides a large amount of astronomical constants... \n",
    "\n",
    "but warning: The use of units can slow down the processing of a large data set."
   ]
  },
  {
   "cell_type": "code",
   "execution_count": null,
   "metadata": {},
   "outputs": [],
   "source": [
    "import numpy as np\n",
    "from astropy import constants as const\n",
    "from astropy import units as u"
   ]
  },
  {
   "cell_type": "markdown",
   "metadata": {},
   "source": [
    "By default astropy constants uses S.I. units..."
   ]
  },
  {
   "cell_type": "code",
   "execution_count": null,
   "metadata": {},
   "outputs": [],
   "source": [
    "print(const.c)"
   ]
  },
  {
   "cell_type": "markdown",
   "metadata": {},
   "source": [
    "It can be transformed to any units..."
   ]
  },
  {
   "cell_type": "code",
   "execution_count": null,
   "metadata": {},
   "outputs": [],
   "source": [
    "const.c.to('km/s')"
   ]
  },
  {
   "cell_type": "code",
   "execution_count": null,
   "metadata": {},
   "outputs": [],
   "source": [
    "const.c.to('pc/yr')"
   ]
  },
  {
   "cell_type": "markdown",
   "metadata": {},
   "source": [
    "You can also define your own constant using astropy Units"
   ]
  },
  {
   "cell_type": "code",
   "execution_count": null,
   "metadata": {},
   "outputs": [],
   "source": [
    "my_emission_line_flux = 12.32 * u.erg / u.cm ** 2 / u.s\n",
    "my_emission_line_flux"
   ]
  },
  {
   "cell_type": "markdown",
   "metadata": {},
   "source": [
    "Here we can compute Earth's orbit speed using Astropy constants and asuming a circular orbit:\n",
    "\n",
    "$$v=\\frac{2\\cdot\\pi\\cdot R}{P}$$\n",
    "\n",
    "where $v$ is the speed of the Earth, $R$ is the Earth orbital radius and $P$ is the Earth orbital period."
   ]
  },
  {
   "cell_type": "code",
   "execution_count": null,
   "metadata": {
    "hideCode": false
   },
   "outputs": [],
   "source": [
    "speed_of_earth = const.au * 2 * np.pi / u.yr\n",
    "speed_of_earth.to('km/s')"
   ]
  },
  {
   "cell_type": "markdown",
   "metadata": {},
   "source": [
    "Or it can also be computed (approximately) from the gravitational force between the Earth and the Sun:\n",
    "\n",
    "$$v=\\sqrt{\\frac{G\\cdot M_\\odot}{R}}$$\n",
    "\n",
    "where $M_\\odot$ is now the mass of the Sun and $G$ is the gravitational constant."
   ]
  },
  {
   "cell_type": "code",
   "execution_count": null,
   "metadata": {
    "hideCode": true,
    "hidePrompt": false
   },
   "outputs": [],
   "source": [
    "speed_of_earth_2 = np.sqrt(const.G * const.M_sun / const.au) \n",
    "speed_of_earth_2.to('km/s')"
   ]
  },
  {
   "cell_type": "markdown",
   "metadata": {},
   "source": [
    "It can also be used to compute the orbital period of a satellite around the Earth, from its semi-major axis:\n",
    "\n",
    "$$P=\\frac{2\\cdot\\pi}{\\sqrt{G\\cdot M_\\oplus}}\\cdot a^{\\frac{3}{2}}$$"
   ]
  },
  {
   "cell_type": "code",
   "execution_count": null,
   "metadata": {},
   "outputs": [],
   "source": [
    "period = 2 * np.pi * (36000 * u.km + const.R_earth)**1.5 / np.sqrt(const.G * const.M_earth)\n",
    "print(period.to(u.day))"
   ]
  },
  {
   "cell_type": "markdown",
   "metadata": {},
   "source": [
    "### Celestial Coordinates"
   ]
  },
  {
   "cell_type": "markdown",
   "metadata": {},
   "source": [
    "The simplest coordinate we can define is a single point in the sky, by default in the ICRS frame."
   ]
  },
  {
   "cell_type": "code",
   "execution_count": null,
   "metadata": {},
   "outputs": [],
   "source": [
    "from astropy.coordinates import SkyCoord\n",
    "c = SkyCoord(ra=10.625*u.degree, dec=41.2*u.degree, frame='icrs')"
   ]
  },
  {
   "cell_type": "markdown",
   "metadata": {},
   "source": [
    "#### Definition\n",
    "It can be defined in almost any format used in astronomy (and there are many, as usual...) all representing the same location."
   ]
  },
  {
   "cell_type": "code",
   "execution_count": null,
   "metadata": {},
   "outputs": [],
   "source": [
    "c = SkyCoord(10.625, 41.2, frame='icrs', unit='deg')\n",
    "c = SkyCoord('00h42m30s', '+41d12m00s', frame='icrs')\n",
    "c = SkyCoord('00h42.5m', '+41d12m')\n",
    "c = SkyCoord('00 42 30 +41 12 00', unit=(u.hourangle, u.deg))\n",
    "c = SkyCoord('00:42.5 +41:12', unit=(u.hourangle, u.deg))\n",
    "c"
   ]
  },
  {
   "cell_type": "markdown",
   "metadata": {},
   "source": [
    "Astropy also has a significantly large list of sources than can be retrieved by its name:"
   ]
  },
  {
   "cell_type": "code",
   "execution_count": null,
   "metadata": {},
   "outputs": [],
   "source": [
    "a_big_blue_star = SkyCoord.from_name('rigel')\n",
    "print (a_big_blue_star.ra, a_big_blue_star.dec, a_big_blue_star.distance)"
   ]
  },
  {
   "cell_type": "markdown",
   "metadata": {},
   "source": [
    "#### Transformation\n",
    "We can easily convert to other coordinate systems, like the galactic..."
   ]
  },
  {
   "cell_type": "code",
   "execution_count": null,
   "metadata": {},
   "outputs": [],
   "source": [
    "c.galactic"
   ]
  },
  {
   "cell_type": "markdown",
   "metadata": {},
   "source": [
    "Or even get what is the closest constellation to the object, very useful for astronomers as you know..."
   ]
  },
  {
   "cell_type": "code",
   "execution_count": null,
   "metadata": {},
   "outputs": [],
   "source": [
    "print(c.to_string('hmsdms'), 'is in', c.get_constellation(), 'and Rigel is in', a_big_blue_star.get_constellation())\n"
   ]
  },
  {
   "cell_type": "markdown",
   "metadata": {},
   "source": [
    "#### Distances\n",
    "Coordinates allow also to define distances:"
   ]
  },
  {
   "cell_type": "code",
   "execution_count": null,
   "metadata": {},
   "outputs": [],
   "source": [
    "c = SkyCoord(ra=10.68458*u.degree, dec=41.26917*u.degree, distance=770*u.kpc)\n",
    "print (c.cartesian.x, c.cartesian.y, c.cartesian.z)"
   ]
  },
  {
   "cell_type": "markdown",
   "metadata": {},
   "source": [
    "If we define one or more coordinates we can compute the distance between the two objects:"
   ]
  },
  {
   "cell_type": "code",
   "execution_count": null,
   "metadata": {},
   "outputs": [],
   "source": [
    "c1 = SkyCoord(ra=10*u.degree, dec=9*u.degree, distance=10*u.pc, frame='icrs')\n",
    "c2 = SkyCoord(ra=11*u.degree, dec=10*u.degree, distance=11.5*u.pc, frame='icrs')\n",
    "\n",
    "print (\"Angular Separation: %s\" % c1.separation(c2))\n",
    "print (\"Distance between objects: %s\" % c1.separation_3d(c2))"
   ]
  },
  {
   "cell_type": "markdown",
   "metadata": {},
   "source": [
    "#### Catalogue of sources\n",
    "\n",
    "A catalogue of positions can also be created using numpy arrays:"
   ]
  },
  {
   "cell_type": "code",
   "execution_count": null,
   "metadata": {},
   "outputs": [],
   "source": [
    "ras = np.array([0-.7, 21.5, 120.9]) * u.deg  \n",
    "decs = np.array([4.5, -5.2, 6.3]) * u.deg   \n",
    "catalogue = SkyCoord(ras, decs, frame='icrs')\n",
    "catalogue.galactic"
   ]
  },
  {
   "cell_type": "markdown",
   "metadata": {},
   "source": [
    "## Time and Date\n",
    "The astropy.time package provides functionality for manipulating times and dates used in astronomy, such as UTC or MJD.\n",
    "#### Definition"
   ]
  },
  {
   "cell_type": "code",
   "execution_count": null,
   "metadata": {},
   "outputs": [],
   "source": [
    "from astropy.time import Time\n",
    "times = ['2017-09-13T00:00:00', '2017-09-15T11:20:15.123456789',]\n",
    "t1 = Time(times)\n",
    "t1"
   ]
  },
  {
   "cell_type": "markdown",
   "metadata": {},
   "source": [
    "Default format is ISOT and scale UTC, but it can be set to others."
   ]
  },
  {
   "cell_type": "code",
   "execution_count": null,
   "metadata": {},
   "outputs": [],
   "source": [
    "times = [58009, 58011.47239726]\n",
    "t2 = Time(times, format='mjd', scale='tai')\n",
    "t2"
   ]
  },
  {
   "cell_type": "markdown",
   "metadata": {},
   "source": [
    "#### Format conversion"
   ]
  },
  {
   "cell_type": "code",
   "execution_count": null,
   "metadata": {
    "scrolled": true
   },
   "outputs": [],
   "source": [
    "print (\"To julian date: %s\" % t1[0].jd)\n",
    "print (\"To modified julian date: %s\" % t1[0].mjd)\n",
    "print (\"To FITS: %s\" % t1[0].fits)\n",
    "print (\"To GPS: %s\" % t1[0].gps)\n",
    "print (\"To Bessel Epoch Year: %s\" % t1[0].byear_str)\n",
    "print (\"To Julian Epoch Year: %s\" % t1[0].jyear_str)"
   ]
  },
  {
   "cell_type": "markdown",
   "metadata": {},
   "source": [
    "#### Timezones"
   ]
  },
  {
   "cell_type": "markdown",
   "metadata": {},
   "source": [
    "When a Time object is constructed from a timezone-aware datetime, no timezone information is saved in the Time object. However, Time objects can be converted to timezone-aware datetime objects:"
   ]
  },
  {
   "cell_type": "code",
   "execution_count": null,
   "metadata": {},
   "outputs": [],
   "source": [
    "from datetime import datetime\n",
    "from astropy.time import Time, TimezoneInfo\n",
    "import astropy.units as u\n",
    "utc_plus_one_hour = TimezoneInfo(utc_offset=1*u.hour)\n",
    "dt_aware = datetime(2000, 1, 1, 0, 0, 0, tzinfo=utc_plus_one_hour)\n",
    "t = Time(dt_aware)  # Loses timezone info, converts to UTC\n",
    "print(t)            # will return UTC"
   ]
  },
  {
   "cell_type": "code",
   "execution_count": null,
   "metadata": {},
   "outputs": [],
   "source": [
    "print(t.to_datetime(timezone=utc_plus_one_hour)) # to timezone-aware datetime"
   ]
  },
  {
   "cell_type": "markdown",
   "metadata": {},
   "source": [
    "## Additional tools"
   ]
  },
  {
   "cell_type": "markdown",
   "metadata": {},
   "source": [
    "Astropy is an ecosystem by itself. Knowing well its possibilities will enable fast data analyses without having to worry too much on the nuts and bolts of them. Astropy has arrived to stay, for some time, at least. "
   ]
  }
 ],
 "metadata": {
  "kernelspec": {
   "display_name": "Python 3",
   "language": "python",
   "name": "python3"
  },
  "language_info": {
   "codemirror_mode": {
    "name": "ipython",
    "version": 3
   },
   "file_extension": ".py",
   "mimetype": "text/x-python",
   "name": "python",
   "nbconvert_exporter": "python",
   "pygments_lexer": "ipython3",
   "version": "3.7.3"
  }
 },
 "nbformat": 4,
 "nbformat_minor": 4
}
