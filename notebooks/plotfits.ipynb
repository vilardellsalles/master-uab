{
 "cells": [
  {
   "cell_type": "markdown",
   "metadata": {},
   "source": [
    "# Plot FITS images"
   ]
  },
  {
   "cell_type": "markdown",
   "metadata": {},
   "source": [
    "Being able to visualize images is key to understand any data reduction. Therefore, the first thing to be done for any reduction is to plot the images. This can be easily done with Astropy and Matplotlib. We are going to define a handy function that will be used in the rest of the class."
   ]
  },
  {
   "cell_type": "code",
   "execution_count": null,
   "metadata": {},
   "outputs": [],
   "source": [
    "%matplotlib widget\n",
    "import sys\n",
    "import matplotlib.pyplot as plt\n",
    "from astropy.io import fits\n",
    "from astropy import wcs\n",
    "from astropy.visualization.mpl_normalize import simple_norm"
   ]
  },
  {
   "cell_type": "code",
   "execution_count": null,
   "metadata": {},
   "outputs": [],
   "source": [
    "def plot(filename, ext=0):\n",
    "\n",
    "    hdu = fits.open(filename)[ext]\n",
    "    image = hdu.data\n",
    "    header = hdu.header\n",
    "\n",
    "    norm = simple_norm(image, percent=99)\n",
    "\n",
    "    try:\n",
    "        wcsheader = wcs.WCS(header)\n",
    "        resolved = wcsheader.is_celestial\n",
    "    except:\n",
    "        resolved = False\n",
    "\n",
    "    projection = dict(projection=wcsheader) if resolved else None\n",
    "    fig, norm_image = plt.subplots(subplot_kw=projection, figsize=(5, 5))\n",
    "    norm_image.imshow(image, vmin=norm.vmin, vmax=norm.vmax, cmap=\"Greys_r\")\n",
    "\n",
    "    if resolved:\n",
    "        norm_image.coords.grid(color=\"yellow\", ls=\"solid\")\n",
    "\n",
    "    plt.show(fig)\n",
    "    #plt.clf()\n"
   ]
  }
 ],
 "metadata": {
  "kernelspec": {
   "display_name": "Python 3",
   "language": "python",
   "name": "python3"
  },
  "language_info": {
   "codemirror_mode": {
    "name": "ipython",
    "version": 3
   },
   "file_extension": ".py",
   "mimetype": "text/x-python",
   "name": "python",
   "nbconvert_exporter": "python",
   "pygments_lexer": "ipython3",
   "version": "3.7.3"
  }
 },
 "nbformat": 4,
 "nbformat_minor": 4
}
