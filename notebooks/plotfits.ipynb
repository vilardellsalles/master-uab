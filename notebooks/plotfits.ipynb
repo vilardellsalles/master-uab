{
 "cells": [
  {
   "cell_type": "markdown",
   "metadata": {},
   "source": [
    "# Plot FITS images"
   ]
  },
  {
   "cell_type": "markdown",
   "metadata": {},
   "source": [
    "Being able to visualize images is key to understand any data reduction. Therefore, the first thing to be done for any reduction is to plot the images. This can be easily done with Astropy and Matplotlib. We are going to define a handy function that will be used in the rest of the class."
   ]
  },
  {
   "cell_type": "code",
   "execution_count": null,
   "metadata": {},
   "outputs": [],
   "source": [
    "%matplotlib widget\n",
    "import sys\n",
    "import matplotlib.pyplot as plt\n",
    "from astropy.io import fits\n",
    "from astropy import wcs\n",
    "from astropy.visualization.mpl_normalize import simple_norm"
   ]
  },
  {
   "cell_type": "code",
   "execution_count": null,
   "metadata": {},
   "outputs": [],
   "source": [
    "def plot(filename, ext=0):\n",
    "\n",
    "    hdu = fits.open(filename)[ext]\n",
    "    image = hdu.data.T\n",
    "    header = hdu.header\n",
    "\n",
    "    norm = simple_norm(image, percent=99)\n",
    "\n",
    "    wcsheader = wcs.WCS(header).swapaxes(0,1)\n",
    "\n",
    "    projection = dict(projection=wcsheader) if wcsheader.is_celestial else None\n",
    "    fig, norm_image = plt.subplots(subplot_kw=projection, figsize=(9,4))\n",
    "    cmap = norm_image.imshow(image, norm=norm, origin='lower', cmap='Greys_r')\n",
    "    norm_image.invert_yaxis()\n",
    "    fig.colorbar(cmap)\n",
    "\n",
    "    if wcsheader.is_celestial:\n",
    "        norm_image.coords.grid(color=\"yellow\", ls=\"solid\")\n",
    "\n",
    "        lon, lat = norm_image.coords\n",
    "\n",
    "        lon.set_axislabel('Right Ascension')\n",
    "        lon.set_ticks_position('l')\n",
    "        lon.set_ticklabel_position('l')\n",
    "        \n",
    "        lat.set_axislabel('Declination')\n",
    "        lat.set_ticks_position('b')\n",
    "        lat.set_ticklabel_position('b')\n",
    "\n",
    "    plt.show(fig)"
   ]
  }
 ],
 "metadata": {
  "kernelspec": {
   "display_name": "Python 3",
   "language": "python",
   "name": "python3"
  },
  "language_info": {
   "codemirror_mode": {
    "name": "ipython",
    "version": 3
   },
   "file_extension": ".py",
   "mimetype": "text/x-python",
   "name": "python",
   "nbconvert_exporter": "python",
   "pygments_lexer": "ipython3",
   "version": "3.7.3"
  }
 },
 "nbformat": 4,
 "nbformat_minor": 4
}
