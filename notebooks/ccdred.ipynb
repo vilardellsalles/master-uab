{
 "cells": [
  {
   "cell_type": "markdown",
   "metadata": {},
   "source": [
    "# Cleaning raw images"
   ]
  },
  {
   "cell_type": "markdown",
   "metadata": {},
   "source": [
    "The first thing to do with any CCD image is to clean the data from instrumental defects. For that, bias, dark and flat images will be used to clean the raw science images of the this globular cluster. As usual, required modules have to be imported first."
   ]
  },
  {
   "cell_type": "code",
   "execution_count": null,
   "metadata": {},
   "outputs": [],
   "source": [
    "import os.path\n",
    "from glob import glob\n",
    "\n",
    "import ccdproc"
   ]
  },
  {
   "cell_type": "markdown",
   "metadata": {},
   "source": [
    "## Creating master bias"
   ]
  },
  {
   "cell_type": "code",
   "execution_count": null,
   "metadata": {},
   "outputs": [],
   "source": [
    "bias_list = glob(os.path.join('..','resources', 'raw_data', 'bias*'))\n",
    "master_bias = os.path.join('..','resources','red_data','zero.fit')\n",
    "\n",
    "if os.path.isfile(master_bias):\n",
    "    os.remove(master_bias)\n",
    "\n",
    "full_bias = ccdproc.combine(bias_list, output_file=master_bias, mem_limit=1e8, method='median', unit='adu', dtype='float32')"
   ]
  },
  {
   "cell_type": "code",
   "execution_count": null,
   "metadata": {},
   "outputs": [],
   "source": [
    "valid_area = slice(0, 4096), slice(53, 2101)\n"
   ]
  }
 ],
 "metadata": {
  "kernelspec": {
   "display_name": "Python 3",
   "language": "python",
   "name": "python3"
  },
  "language_info": {
   "codemirror_mode": {
    "name": "ipython",
    "version": 3
   },
   "file_extension": ".py",
   "mimetype": "text/x-python",
   "name": "python",
   "nbconvert_exporter": "python",
   "pygments_lexer": "ipython3",
   "version": "3.7.3"
  }
 },
 "nbformat": 4,
 "nbformat_minor": 4
}
