{
 "cells": [
  {
   "cell_type": "markdown",
   "metadata": {},
   "source": [
    "# Cleaning raw images"
   ]
  },
  {
   "cell_type": "markdown",
   "metadata": {},
   "source": [
    "The first thing to do with any CCD image is to clean the data from instrumental defects. For that, bias, dark and flat images should be used to clean the raw science images of the globular cluster M67. However, dark current of the selected images is negligible and, therefore, will not be used in the current exercise. Further information on most of the options and steps used in the current exercise can be found in the [Ccdproc reduction toolbox](https://ccdproc.readthedocs.io/en/latest/reduction_toolbox.html). \n",
    "\n",
    "As usual, required modules have to be imported first."
   ]
  },
  {
   "cell_type": "code",
   "execution_count": null,
   "metadata": {},
   "outputs": [],
   "source": [
    "import os.path\n",
    "import warnings\n",
    "from glob import glob\n",
    "\n",
    "from astropy.wcs import FITSFixedWarning\n",
    "import ccdproc\n",
    "\n",
    "# FITS files are rather old and do not conform to FITS standard\n",
    "warnings.filterwarnings(\"ignore\", category=FITSFixedWarning)\n",
    "\n",
    "%run plotfits.ipynb # plot() function is defined here"
   ]
  },
  {
   "cell_type": "markdown",
   "metadata": {},
   "source": [
    "A notebook called [`plotfits.ipynb`](plotfits.ipynb) is imported here to plot the images. "
   ]
  },
  {
   "cell_type": "markdown",
   "metadata": {},
   "source": [
    "## Creating master bias"
   ]
  },
  {
   "cell_type": "markdown",
   "metadata": {},
   "source": [
    "WFC images have an overscan region. For timing reasons, overscan will be \n",
    "assumed to be negligible and, therefore, only bias subtraction will be done. "
   ]
  },
  {
   "cell_type": "code",
   "execution_count": null,
   "metadata": {},
   "outputs": [],
   "source": [
    "raw_data_dir = os.path.join('..','resources', 'raw_data')\n",
    "red_data_dir = os.path.join('..','resources', 'red_data')\n",
    "\n",
    "bias_list = glob(os.path.join(raw_data_dir, 'bias*'))\n",
    "master_bias_file = os.path.join(red_data_dir,'zero.fit')\n",
    "\n",
    "if os.path.isfile(master_bias_file):\n",
    "    os.remove(master_bias_file)\n",
    "\n",
    "if not os.path.isdir(red_data_dir):\n",
    "    os.mkdir(red_data_dir)\n",
    "\n",
    "full_bias = ccdproc.combine(bias_list, output_file=master_bias_file, \n",
    "                            mem_limit=1e8, method='median', \n",
    "                            unit='adu', dtype='float32')\n",
    "\n",
    "valid_area = slice(0, 4096), slice(53, 2101)\n",
    "master_bias = ccdproc.trim_image(full_bias[valid_area])\n",
    "\n",
    "plot(master_bias_file)"
   ]
  },
  {
   "cell_type": "markdown",
   "metadata": {},
   "source": [
    "## Create master flat"
   ]
  },
  {
   "cell_type": "markdown",
   "metadata": {},
   "source": [
    "All flats should be bias subtracted first. "
   ]
  },
  {
   "cell_type": "code",
   "execution_count": null,
   "metadata": {},
   "outputs": [],
   "source": [
    "flat_list = glob(os.path.join(raw_data_dir,'flat*'))\n",
    "\n",
    "for flat in flat_list:\n",
    "    raw_data = ccdproc.CCDData.read(flat, unit='adu')[valid_area]\n",
    "    sub_data = ccdproc.subtract_bias(raw_data, master_bias)\n",
    "    sub_data.write(os.path.join(red_data_dir, 'b_' + os.path.basename(flat)),\n",
    "                   overwrite=True)"
   ]
  },
  {
   "cell_type": "markdown",
   "metadata": {},
   "source": [
    "Now, all flats for Strömgren b filter can be combined **with the proper scaling**. "
   ]
  },
  {
   "cell_type": "code",
   "execution_count": null,
   "metadata": {},
   "outputs": [],
   "source": [
    "clean_flats = []\n",
    "mean_values = []\n",
    "master_flat_b_file = os.path.join(red_data_dir, 'master_flat_b.fit')\n",
    "\n",
    "if os.path.isfile(master_flat_b_file):\n",
    "    os.remove(master_flat_b_file)\n",
    "\n",
    "for flat in glob(os.path.join(red_data_dir, 'b_flat_b*')):\n",
    "    raw_data = ccdproc.CCDData.read(flat, unit='adu')\n",
    "    mean = raw_data.data.mean()\n",
    "    clean_flats += [raw_data]\n",
    "    mean_values += [1/mean]\n",
    "    print('Flat', flat, 'has mean value of', mean)\n",
    "\n",
    "master_flat_b = ccdproc.combine(clean_flats, mem_limit=1e8, dtype='float32',\n",
    "                                output_file=master_flat_b_file,\n",
    "                                scale=mean_values, method='median')\n",
    "\n",
    "plot(master_flat_b_file)"
   ]
  },
  {
   "cell_type": "markdown",
   "metadata": {},
   "source": [
    "And the same for Strömgren y flats."
   ]
  },
  {
   "cell_type": "code",
   "execution_count": null,
   "metadata": {},
   "outputs": [],
   "source": [
    "clean_flats = []\n",
    "mean_values = []\n",
    "master_flat_y_file = os.path.join(red_data_dir, 'master_flat_y.fit')\n",
    "\n",
    "if os.path.isfile(master_flat_y_file):\n",
    "    os.remove(master_flat_y_file)\n",
    "\n",
    "for flat in glob(os.path.join(red_data_dir, 'b_flat_y*')):\n",
    "    raw_data = ccdproc.CCDData.read(flat, unit='adu')\n",
    "    mean = raw_data.data.mean()\n",
    "    clean_flats += [raw_data]\n",
    "    mean_values += [1/mean]\n",
    "    print('Flat', flat, 'has mean value of', mean)\n",
    "\n",
    "\n",
    "master_flat_y = ccdproc.combine(clean_flats, mem_limit=1e8, dtype='float32',\n",
    "                                output_file=master_flat_y_file,\n",
    "                                scale=mean_values, method='median')\n",
    "\n",
    "plot(master_flat_y_file)"
   ]
  },
  {
   "cell_type": "markdown",
   "metadata": {},
   "source": [
    "## Processing science images"
   ]
  },
  {
   "cell_type": "markdown",
   "metadata": {},
   "source": [
    "Once master bias and master flats have been obtained, science images can be cleaned from instrumental defects."
   ]
  },
  {
   "cell_type": "code",
   "execution_count": null,
   "metadata": {},
   "outputs": [],
   "source": [
    "for image in glob(os.path.join(raw_data_dir,'m67_b*')):\n",
    "    raw_data = ccdproc.CCDData.read(image, unit='adu')[valid_area]\n",
    "    clean_data = ccdproc.ccd_process(raw_data, master_bias=master_bias,\n",
    "                                     master_flat=master_flat_b)\n",
    "    output_file = os.path.join(red_data_dir, 'bf_' + os.path.basename(image))\n",
    "    clean_data.write(output_file, overwrite=True)\n",
    "\n",
    "for image in glob(os.path.join(raw_data_dir,'m67_y*')):\n",
    "    raw_data = ccdproc.CCDData.read(image, unit='adu')[valid_area]\n",
    "    clean_data = ccdproc.ccd_process(raw_data, master_bias=master_bias,\n",
    "                                     master_flat=master_flat_y)\n",
    "    output_file = os.path.join(red_data_dir, 'bf_' + os.path.basename(image))\n",
    "    clean_data.write(output_file, overwrite=True)\n",
    "\n",
    "plot(image)\n",
    "plot(output_file)"
   ]
  }
 ],
 "metadata": {
  "kernelspec": {
   "display_name": "Python 3",
   "language": "python",
   "name": "python3"
  },
  "language_info": {
   "codemirror_mode": {
    "name": "ipython",
    "version": 3
   },
   "file_extension": ".py",
   "mimetype": "text/x-python",
   "name": "python",
   "nbconvert_exporter": "python",
   "pygments_lexer": "ipython3",
   "version": "3.7.3"
  }
 },
 "nbformat": 4,
 "nbformat_minor": 4
}
